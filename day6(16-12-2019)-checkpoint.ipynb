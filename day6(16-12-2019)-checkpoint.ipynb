{
 "cells": [
  {
   "cell_type": "markdown",
   "metadata": {},
   "source": [
    "# loops\n",
    "## For loop syntax\n"
   ]
  },
  {
   "cell_type": "code",
   "execution_count": 10,
   "metadata": {},
   "outputs": [
    {
     "name": "stdout",
     "output_type": "stream",
     "text": [
      "G\n",
      "I\n",
      "T\n",
      "A\n",
      "M\n"
     ]
    }
   ],
   "source": [
    "for i in \"GITAM\":\n",
    "    print(i)"
   ]
  },
  {
   "cell_type": "markdown",
   "metadata": {},
   "source": [
    "- range(start,stop,step)\n",
    "- range(stop)\n",
    "- range(start,stop)\n",
    "start value is inclusive ,stop value is exclusive"
   ]
  },
  {
   "cell_type": "code",
   "execution_count": 6,
   "metadata": {},
   "outputs": [
    {
     "name": "stdout",
     "output_type": "stream",
     "text": [
      "0\t1\t2\t3\t4\t"
     ]
    }
   ],
   "source": [
    "# default values for start=0 ,step=1\n",
    "for i in range(5):\n",
    "    print(i,end='\\t')"
   ]
  },
  {
   "cell_type": "code",
   "execution_count": 8,
   "metadata": {},
   "outputs": [
    {
     "name": "stdout",
     "output_type": "stream",
     "text": [
      "5\t6\t7\t8\t9\t"
     ]
    }
   ],
   "source": [
    "for i in range(5,10):#excluding stop value including start value and step value is 1\n",
    "    print(i,end='\\t')"
   ]
  },
  {
   "cell_type": "code",
   "execution_count": 11,
   "metadata": {},
   "outputs": [
    {
     "name": "stdout",
     "output_type": "stream",
     "text": [
      "-4\t-3\t-2\t-1\t0\t1\t2\t3\t4\t"
     ]
    }
   ],
   "source": [
    "for i in range(-4,5):\n",
    "    print(i,end='\\t')\n"
   ]
  },
  {
   "cell_type": "code",
   "execution_count": 13,
   "metadata": {},
   "outputs": [
    {
     "ename": "TypeError",
     "evalue": "'float' object cannot be interpreted as an integer",
     "output_type": "error",
     "traceback": [
      "\u001b[1;31m---------------------------------------------------------------------------\u001b[0m",
      "\u001b[1;31mTypeError\u001b[0m                                 Traceback (most recent call last)",
      "\u001b[1;32m<ipython-input-13-0abb0272f9e0>\u001b[0m in \u001b[0;36m<module>\u001b[1;34m\u001b[0m\n\u001b[1;32m----> 1\u001b[1;33m \u001b[1;32mfor\u001b[0m \u001b[0mi\u001b[0m \u001b[1;32min\u001b[0m \u001b[0mrange\u001b[0m\u001b[1;33m(\u001b[0m\u001b[1;36m4.5\u001b[0m\u001b[1;33m,\u001b[0m\u001b[1;36m5.5\u001b[0m\u001b[1;33m)\u001b[0m\u001b[1;33m:\u001b[0m\u001b[1;33m\u001b[0m\u001b[1;33m\u001b[0m\u001b[0m\n\u001b[0m\u001b[0;32m      2\u001b[0m     \u001b[0mprint\u001b[0m\u001b[1;33m(\u001b[0m\u001b[0mi\u001b[0m\u001b[1;33m)\u001b[0m\u001b[1;33m\u001b[0m\u001b[1;33m\u001b[0m\u001b[0m\n",
      "\u001b[1;31mTypeError\u001b[0m: 'float' object cannot be interpreted as an integer"
     ]
    }
   ],
   "source": [
    "for i in range(4.5,5.5):\n",
    "    print(i)\n"
   ]
  },
  {
   "cell_type": "markdown",
   "metadata": {},
   "source": [
    "### generate even numbers below 100\n",
    "### generate  multiple of 7 in(23,140) both 23 and 140 are inclusive"
   ]
  },
  {
   "cell_type": "code",
   "execution_count": 23,
   "metadata": {},
   "outputs": [
    {
     "name": "stdout",
     "output_type": "stream",
     "text": [
      "2\t4\t6\t8\t10\t12\t14\t16\t18\t20\t22\t24\t26\t28\t30\t32\t34\t36\t38\t40\t42\t44\t46\t48\t50\t52\t54\t56\t58\t60\t62\t64\t66\t68\t70\t72\t74\t76\t78\t80\t82\t84\t86\t88\t90\t92\t94\t96\t98\t"
     ]
    }
   ],
   "source": [
    "for i in range(1,100):\n",
    "    if(i%2==0):\n",
    "        print(i,end='\\t')\n",
    "    "
   ]
  },
  {
   "cell_type": "code",
   "execution_count": 22,
   "metadata": {},
   "outputs": [
    {
     "name": "stdout",
     "output_type": "stream",
     "text": [
      "28\t35\t42\t49\t56\t63\t70\t77\t84\t91\t98\t105\t112\t119\t126\t133\t140\t"
     ]
    }
   ],
   "source": [
    "for i in range(23,141):\n",
    "    if(i%7==0):\n",
    "        print(i,end='\\t')"
   ]
  },
  {
   "cell_type": "markdown",
   "metadata": {},
   "source": [
    "while syntax:\n",
    "  intialization \n",
    "  - while condition:\n",
    "      statements\n",
    "      increment/decrement(variable updation)"
   ]
  },
  {
   "cell_type": "code",
   "execution_count": 1,
   "metadata": {},
   "outputs": [
    {
     "name": "stdout",
     "output_type": "stream",
     "text": [
      "28 35 42 49 56 63 70 77 84 91 98 105 112 119 126 133 140 "
     ]
    }
   ],
   "source": [
    "i=23\n",
    "while i<=140:\n",
    "    if i%7==0:\n",
    "        print(i,end=' ')\n",
    "    i=i+1"
   ]
  },
  {
   "cell_type": "markdown",
   "metadata": {},
   "source": [
    "** read the numbers from keyboard .stop the reading whenever user enters done\n",
    "example:\n",
    "input\n",
    "12\n",
    "45\n",
    "done\n"
   ]
  },
  {
   "cell_type": "code",
   "execution_count": 1,
   "metadata": {},
   "outputs": [
    {
     "name": "stdout",
     "output_type": "stream",
     "text": [
      "enter number5\n",
      "5\n",
      "enter number7\n",
      "7\n",
      "enter number63\n",
      "63\n",
      "enter number20\n",
      "20\n",
      "enter numberdone\n"
     ]
    }
   ],
   "source": [
    "n=input(\"enter number\")\n",
    "while n!=\"done\":\n",
    "    print(n)\n",
    "    n = input(\"enter number\")\n"
   ]
  },
  {
   "cell_type": "markdown",
   "metadata": {},
   "source": [
    "# vowel count in a given string\n",
    "example : gitam\n",
    "output: 2\n"
   ]
  },
  {
   "cell_type": "code",
   "execution_count": 7,
   "metadata": {},
   "outputs": [
    {
     "name": "stdout",
     "output_type": "stream",
     "text": [
      "enter the stringgitam\n",
      "2\n"
     ]
    }
   ],
   "source": [
    "n= input(\"enter the string\")\n",
    "c=0\n",
    "for each in n:\n",
    "    if each in 'aeiouAEIOU':\n",
    "        c=c+1\n",
    "print(c)        \n",
    "           \n",
    "        \n",
    "    \n",
    "    \n",
    "    "
   ]
  },
  {
   "cell_type": "markdown",
   "metadata": {},
   "source": []
  }
 ],
 "metadata": {
  "kernelspec": {
   "display_name": "Python 3",
   "language": "python",
   "name": "python3"
  },
  "language_info": {
   "codemirror_mode": {
    "name": "ipython",
    "version": 3
   },
   "file_extension": ".py",
   "mimetype": "text/x-python",
   "name": "python",
   "nbconvert_exporter": "python",
   "pygments_lexer": "ipython3",
   "version": "3.7.4"
  }
 },
 "nbformat": 4,
 "nbformat_minor": 2
}
